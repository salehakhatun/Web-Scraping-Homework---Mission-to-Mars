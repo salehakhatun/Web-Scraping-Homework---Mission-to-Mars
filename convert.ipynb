{
 "cells": [
  {
   "cell_type": "code",
   "execution_count": 4,
   "id": "2a068654-682e-46f8-b001-d0d558461e11",
   "metadata": {},
   "outputs": [
    {
     "name": "stderr",
     "output_type": "stream",
     "text": [
      "[NbConvertApp] Converting notebook Missions_2_Mars.ipynb to python\n",
      "[NbConvertApp] Writing 4191 bytes to Missions_2_Mars.py\n"
     ]
    }
   ],
   "source": [
    "# Convert jupyter notebook file to python file\n",
    "!jupyter nbconvert --to python Missions_2_Mars.ipynb"
   ]
  },
  {
   "cell_type": "code",
   "execution_count": null,
   "id": "37590d7c-b9c1-473f-b13f-224a41933872",
   "metadata": {},
   "outputs": [],
   "source": []
  },
  {
   "cell_type": "code",
   "execution_count": null,
   "id": "051324fa-2af3-4e0d-9aec-e82486f85d7f",
   "metadata": {},
   "outputs": [],
   "source": []
  },
  {
   "cell_type": "code",
   "execution_count": null,
   "id": "9496e129-e7e4-4b06-a864-5ba6d2d0a9bf",
   "metadata": {},
   "outputs": [],
   "source": []
  },
  {
   "cell_type": "code",
   "execution_count": null,
   "id": "905031ca-e4a1-4fe1-9fdb-83423286940b",
   "metadata": {},
   "outputs": [],
   "source": []
  },
  {
   "cell_type": "code",
   "execution_count": null,
   "id": "26f681ad-f06c-4c49-8f5e-e35cdc974a7c",
   "metadata": {},
   "outputs": [],
   "source": []
  }
 ],
 "metadata": {
  "kernelspec": {
   "display_name": "Python 3",
   "language": "python",
   "name": "python3"
  },
  "language_info": {
   "codemirror_mode": {
    "name": "ipython",
    "version": 3
   },
   "file_extension": ".py",
   "mimetype": "text/x-python",
   "name": "python",
   "nbconvert_exporter": "python",
   "pygments_lexer": "ipython3",
   "version": "3.8.8"
  }
 },
 "nbformat": 4,
 "nbformat_minor": 5
}
